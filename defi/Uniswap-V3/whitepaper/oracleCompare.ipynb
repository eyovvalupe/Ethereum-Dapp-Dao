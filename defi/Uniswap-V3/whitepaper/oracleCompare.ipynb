{
 "cells": [
  {
   "cell_type": "code",
   "execution_count": 82,
   "source": [
    "'''\r\n",
    "compare two implementations of price oracle:\r\n",
    "    arithmetic mean used by uniswap v2\r\n",
    "    geometric mean used by uniswap v3\r\n",
    "'''\r\n",
    "\r\n",
    "from functools import reduce\r\n",
    "import math\r\n",
    "import pandas as pd\r\n",
    "import numpy as np\r\n"
   ],
   "outputs": [],
   "metadata": {}
  },
  {
   "cell_type": "code",
   "execution_count": 83,
   "source": [
    "# tick index is log(price, 1.0001)\r\n",
    "LOG_BASE = 1.0001\r\n",
    "time_index = [0,1,3,4,5,9,12,13,16,20,22]\r\n",
    "# there is a hostile price on 5th element (price 30)\r\n",
    "origin_prices = [100,130,110,100,30,100,110,120,110,120,100]\r\n",
    "\r\n",
    "# delta time of every besides price\r\n",
    "# first element is 0s\r\n",
    "delta_times = [0]\r\n",
    "for i in range(1, len(time_index)):\r\n",
    "    delta_times.append(time_index[i] - time_index[i-1])\r\n",
    "    "
   ],
   "outputs": [],
   "metadata": {}
  },
  {
   "cell_type": "code",
   "execution_count": 84,
   "source": [
    "# uniswap V2 use arithmetic sum\r\n",
    "def arithmetic_sums_calc(begin, end):\r\n",
    "    sums = []\r\n",
    "    for i in range(begin, end):\r\n",
    "        if i == 0:\r\n",
    "            sums.append(origin_prices[0])\r\n",
    "        else:\r\n",
    "            # sum = current_price * delta time\r\n",
    "            sums.append(origin_prices[begin+i] * delta_times[begin+i])\r\n",
    "    return sums\r\n",
    "\r\n",
    "# uniswap V3 use geometric sum\r\n",
    "def geometric_sums_calc(begin, end):\r\n",
    "    sums = []\r\n",
    "    for i in range(begin, end):\r\n",
    "        if i == 0:\r\n",
    "            sums.append(math.log(origin_prices[0], LOG_BASE))\r\n",
    "        else:\r\n",
    "            # sum = current_price * delta time\r\n",
    "            sums.append(math.log(origin_prices[begin+i], LOG_BASE) * delta_times[begin+i])\r\n",
    "    return sums\r\n",
    "\r\n",
    "arithmetic_sums = arithmetic_sums_calc(0, len(origin_prices))\r\n",
    "geometric_sums = geometric_sums_calc(0, len(origin_prices))\r\n",
    "\r\n",
    "print(arithmetic_sums)\r\n",
    "print(geometric_sums)"
   ],
   "outputs": [
    {
     "output_type": "stream",
     "name": "stdout",
     "text": [
      "[100, 130, 220, 100, 30, 400, 330, 120, 330, 480, 200]\n",
      "[46054.00440660449, 48677.77823122565, 94014.30771788706, 46054.00440660449, 34013.674386974235, 184216.01762641795, 141021.4615768306, 47877.311133803356, 141021.4615768306, 191509.24453521342, 92108.00881320897]\n"
     ]
    }
   ],
   "metadata": {}
  },
  {
   "cell_type": "code",
   "execution_count": 85,
   "source": [
    "# the cumulative price store in oracle\r\n",
    "cumulative_arithmetic = []\r\n",
    "cumulative_geometric = []\r\n",
    "\r\n",
    "for i in range(1,len(origin_prices)+1):\r\n",
    "    cumulative_arithmetic.append(reduce(lambda x,y: x+y, arithmetic_sums[0:i]))\r\n",
    "    cumulative_geometric.append(reduce(lambda x,y: x+y, geometric_sums[0:i]))\r\n",
    "\r\n",
    "print(cumulative_arithmetic)\r\n",
    "print(cumulative_geometric)\r\n"
   ],
   "outputs": [
    {
     "output_type": "stream",
     "name": "stdout",
     "text": [
      "[100, 230, 450, 550, 580, 980, 1310, 1430, 1760, 2240, 2440]\n",
      "[46054.00440660449, 94731.78263783014, 188746.0903557172, 234800.09476232168, 268813.7691492959, 453029.7867757139, 594051.2483525445, 641928.5594863478, 782950.0210631784, 974459.2655983919, 1066567.2744116008]\n"
     ]
    }
   ],
   "metadata": {}
  },
  {
   "cell_type": "code",
   "execution_count": 86,
   "source": [
    "# calc price with oracle's cumulative price\r\n",
    "def calc_arithmetic_oracleprice(begin,end):\r\n",
    "    return (cumulative_arithmetic[end] - cumulative_arithmetic[begin]) / (time_index[end] - time_index[begin])\r\n",
    "\r\n",
    "def calc_geometric_oracleprice(begin,end):\r\n",
    "    return math.pow(LOG_BASE, (cumulative_geometric[end] - cumulative_geometric[begin]) / (time_index[end] - time_index[begin]))\r\n",
    "\r\n",
    "WINDOW_SIZE = 4\r\n",
    "\r\n",
    "np_mean_prices = []\r\n",
    "oracle_arithmetic_prices = []\r\n",
    "oracle_geometric_prices = []\r\n",
    "\r\n",
    "for i in range(0,len(origin_prices)):\r\n",
    "    if i < WINDOW_SIZE:\r\n",
    "        np_mean_prices.append(None)\r\n",
    "        oracle_arithmetic_prices.append(None)\r\n",
    "        oracle_geometric_prices.append(None)\r\n",
    "    else:\r\n",
    "        np_mean_prices.append(np.mean(origin_prices[i-WINDOW_SIZE:i]))\r\n",
    "        oracle_arithmetic_prices.append(calc_arithmetic_oracleprice(i-WINDOW_SIZE,i))\r\n",
    "        oracle_geometric_prices.append(calc_geometric_oracleprice(i-WINDOW_SIZE,i))\r\n",
    "\r\n",
    "df = pd.DataFrame({\r\n",
    "  'time_index': time_index,\r\n",
    "  'price': origin_prices,\r\n",
    "  'delta_times': delta_times,\r\n",
    "  'cumulative_arithmetic': cumulative_arithmetic,\r\n",
    "  'cumulative_geometric': cumulative_geometric,\r\n",
    "  'oracle_arithmetic_prices': oracle_arithmetic_prices,\r\n",
    "  'oracle_geometric_prices': oracle_geometric_prices,\r\n",
    "})\r\n",
    "\r\n",
    "# the result showing arithmetic mean is more stable than geometric mean\r\n",
    "# that's weird...\r\n",
    "print(df)\r\n"
   ],
   "outputs": [
    {
     "output_type": "stream",
     "name": "stdout",
     "text": [
      "    time_index  price  delta_times  cumulative_arithmetic  \\\n",
      "0            0    100            0                    100   \n",
      "1            1    130            1                    230   \n",
      "2            3    110            2                    450   \n",
      "3            4    100            1                    550   \n",
      "4            5     30            1                    580   \n",
      "5            9    100            4                    980   \n",
      "6           12    110            3                   1310   \n",
      "7           13    120            1                   1430   \n",
      "8           16    110            3                   1760   \n",
      "9           20    120            4                   2240   \n",
      "10          22    100            2                   2440   \n",
      "\n",
      "    cumulative_geometric  oracle_arithmetic_prices  oracle_geometric_prices  \n",
      "0           4.605400e+04                       NaN                      NaN  \n",
      "1           9.473178e+04                       NaN                      NaN  \n",
      "2           1.887461e+05                       NaN                      NaN  \n",
      "3           2.348001e+05                       NaN                      NaN  \n",
      "4           2.688138e+05                 96.000000                86.053789  \n",
      "5           4.530298e+05                 93.750000                88.102519  \n",
      "6           5.940512e+05                 95.555556                90.302531  \n",
      "7           6.419286e+05                 97.777778                92.150530  \n",
      "8           7.829500e+05                107.272727               107.096708  \n",
      "9           9.744593e+05                114.545455               114.437748  \n",
      "10          1.066567e+06                113.000000               112.721933  \n"
     ]
    }
   ],
   "metadata": {}
  }
 ],
 "metadata": {
  "orig_nbformat": 4,
  "language_info": {
   "name": "python",
   "version": "3.7.4",
   "mimetype": "text/x-python",
   "codemirror_mode": {
    "name": "ipython",
    "version": 3
   },
   "pygments_lexer": "ipython3",
   "nbconvert_exporter": "python",
   "file_extension": ".py"
  },
  "kernelspec": {
   "name": "python3",
   "display_name": "Python 3.7.4 64-bit"
  },
  "interpreter": {
   "hash": "ccdf6a4c4ae4c9c888a9eddc1e0e906b8ff389a18c5250a0674b369fa47ea4b5"
  }
 },
 "nbformat": 4,
 "nbformat_minor": 2
}