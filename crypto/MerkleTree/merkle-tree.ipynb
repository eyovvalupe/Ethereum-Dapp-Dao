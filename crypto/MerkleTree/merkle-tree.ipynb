{
 "cells": [
  {
   "cell_type": "markdown",
   "metadata": {},
   "source": [
    "# Merkle Tree Python Example\n",
    "\n",
    "哈希树（hash tree；Merkle tree），在密码学及计算机科学中是一种树形数据结构，每个叶节点均以数据块的哈希作为标签，而除了叶节点以外的节点则以其子节点标签的加密哈希作为标签 。哈希树能够高效、安全地验证大型数据结构的内。\n",
    "\n",
    "- Visualization of Merkle Tree\n",
    "\n",
    "![Visualization of Merkle Tree](https://user-images.githubusercontent.com/168240/43616375-15330c32-9671-11e8-9057-6e61c312c856.png)\n",
    "\n",
    "- Visualization of Merkle Tree Proof\n",
    "\n",
    "![Visualization of Merkle Tree Proof](https://user-images.githubusercontent.com/168240/43616387-27ec860a-9671-11e8-9f3f-0b871a6581a6.png)\n",
    "\n",
    "- Visualization of Invalid Merkle Tree Proofs\n",
    "\n",
    "![Visualization of Invalid Merkle Tree Proofs](https://user-images.githubusercontent.com/168240/43616398-33e20584-9671-11e8-9f62-9f48ce412898.png)\n"
   ]
  },
  {
   "cell_type": "code",
   "execution_count": 221,
   "metadata": {},
   "outputs": [],
   "source": [
    "from typing import List\n",
    "import hashlib\n"
   ]
  },
  {
   "cell_type": "code",
   "execution_count": 222,
   "metadata": {},
   "outputs": [],
   "source": [
    "# Create a node (leaf) class and some methods\n",
    "class Node:\n",
    "    def __init__(self, left, right, value: str, content) -> None:\n",
    "        self.left: Node = left\n",
    "        self.right: Node = right\n",
    "        self.value = value\n",
    "        self.content = content\n",
    "\n",
    "    @staticmethod\n",
    "    def hash(val: str) -> str:\n",
    "        return hashlib.sha256(val.encode(\"utf-8\")).hexdigest()\n",
    "\n",
    "    def __str__(self):\n",
    "        return(str(self.value))\n"
   ]
  },
  {
   "cell_type": "code",
   "execution_count": 223,
   "metadata": {},
   "outputs": [],
   "source": [
    "# Create a MerkleTree class\n",
    "class MerkleTree:\n",
    "    def __init__(self, values: List[str]) -> None:\n",
    "        self.__buildTree(values)\n",
    "\n",
    "    def __buildTree(self, values: List[str]) -> None:\n",
    "\n",
    "        leaves: List[Node] = [Node(None, None, Node.hash(e), e)\n",
    "                              for e in values]\n",
    "\n",
    "        self.root: Node = self.__buildTreeRec(leaves)\n",
    "\n",
    "    def __buildTreeRec(self, nodes: List[Node]) -> Node:\n",
    "\n",
    "        if (len(nodes)) == 1:\n",
    "            return nodes[0]\n",
    "\n",
    "        if len(nodes) == 2:\n",
    "            return Node(nodes[0], nodes[1], Node.hash(nodes[0].value + nodes[1].value), nodes[0].content+\"+\"+nodes[1].content)\n",
    "\n",
    "        half: int = len(nodes) // 2 + 1\n",
    "\n",
    "        left: Node = self.__buildTreeRec(nodes[:half])\n",
    "        right: Node = self.__buildTreeRec(nodes[half:])\n",
    "        value: str = Node.hash(left.value + right.value)\n",
    "        content: str = self.__buildTreeRec(\n",
    "            nodes[:half]).content+\"+\"+self.__buildTreeRec(nodes[half:]).content\n",
    "\n",
    "        return Node(left, right, value, content)\n",
    "\n",
    "    def printTree(self) -> None:\n",
    "        self.__printTreeRec(self.root)\n",
    "\n",
    "    def __printTreeRec(self, node) -> None:\n",
    "        if node != None:\n",
    "            if node.left != None:\n",
    "                print(\"Left: \"+str(node.left))\n",
    "                print(\"Right: \"+str(node.right))\n",
    "            else:\n",
    "                print(\"Input\")\n",
    "\n",
    "            print(\"Value: \"+str(node.value))\n",
    "            print(\"Content: \"+str(node.content))\n",
    "            print(\"\")\n",
    "            self.__printTreeRec(node.left)\n",
    "            self.__printTreeRec(node.right)\n",
    "\n",
    "    def getRootHash(self) -> str:\n",
    "        return self.root.value\n"
   ]
  },
  {
   "cell_type": "code",
   "execution_count": 224,
   "metadata": {},
   "outputs": [
    {
     "name": "stdout",
     "output_type": "stream",
     "text": [
      "Inputs: \n",
      "a | b | c\n",
      "\n",
      "Root Hash: d71dc32fa2cd95be60b32dbb3e63009fa8064407ee19f457c92a09a5ff841a8a\n",
      "\n",
      "Left: 62af5c3cb8da3e4f25061e829ebeea5c7513c54949115b1acc225930a90154da\n",
      "Right: 2e7d2c03a9507ae265ecf5b5356885a53393a2029d241394997265a1a25aefc6\n",
      "Value: d71dc32fa2cd95be60b32dbb3e63009fa8064407ee19f457c92a09a5ff841a8a\n",
      "Content: a+b+c\n",
      "\n",
      "Left: ca978112ca1bbdcafac231b39a23dc4da786eff8147c4e72b9807785afee48bb\n",
      "Right: 3e23e8160039594a33894f6564e1b1348bbd7a0088d42c4acb73eeaed59c009d\n",
      "Value: 62af5c3cb8da3e4f25061e829ebeea5c7513c54949115b1acc225930a90154da\n",
      "Content: a+b\n",
      "\n",
      "Input\n",
      "Value: ca978112ca1bbdcafac231b39a23dc4da786eff8147c4e72b9807785afee48bb\n",
      "Content: a\n",
      "\n",
      "Input\n",
      "Value: 3e23e8160039594a33894f6564e1b1348bbd7a0088d42c4acb73eeaed59c009d\n",
      "Content: b\n",
      "\n",
      "Input\n",
      "Value: 2e7d2c03a9507ae265ecf5b5356885a53393a2029d241394997265a1a25aefc6\n",
      "Content: c\n",
      "\n",
      "None\n"
     ]
    }
   ],
   "source": [
    "# Finaly the test\n",
    "def mixmerkletree() -> None:\n",
    "    elems = ['a', 'b', 'c']\n",
    "    # elems = [\"Mix\", \"Merkle\", \"Tree\", \"From\", \"Dapp-Learning\", \"https://github.com/dapp-learning-dao/dapp-learning\"]\n",
    "    print(\"Inputs: \")\n",
    "    print(*elems, sep=\" | \")\n",
    "    print(\"\")\n",
    "    mtree = MerkleTree(elems)\n",
    "    print(\"Root Hash: \"+mtree.getRootHash()+\"\\n\")\n",
    "    print(mtree.printTree())\n",
    "\n",
    "\n",
    "mixmerkletree()\n"
   ]
  },
  {
   "cell_type": "markdown",
   "metadata": {},
   "source": [
    "## Refferance\n",
    "\n",
    "- [《What is the Merkle Tree — With Python Example》](https://onuratakan.medium.com/what-is-the-merkle-tree-with-python-example-cbb4513b8ad0)\n",
    "- [merkletreejs](https://github.com/miguelmota/merkletreejs)\n",
    "- [哈希树 Wiki](https://zh.wikipedia.org/wiki/%E5%93%88%E5%B8%8C%E6%A0%91)"
   ]
  }
 ],
 "metadata": {
  "interpreter": {
   "hash": "e7c003bafdd23f539bdd679f575006bc288af4aa8a701d839a6f8407e998f944"
  },
  "kernelspec": {
   "display_name": "Python 3.8.12 64-bit ('3.8.12')",
   "language": "python",
   "name": "python3"
  },
  "language_info": {
   "codemirror_mode": {
    "name": "ipython",
    "version": 3
   },
   "file_extension": ".py",
   "mimetype": "text/x-python",
   "name": "python",
   "nbconvert_exporter": "python",
   "pygments_lexer": "ipython3",
   "version": "3.8.12"
  },
  "orig_nbformat": 4
 },
 "nbformat": 4,
 "nbformat_minor": 2
}
